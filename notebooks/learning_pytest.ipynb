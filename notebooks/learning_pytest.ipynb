{
 "cells": [
  {
   "cell_type": "code",
   "execution_count": 8,
   "id": "3845ace6",
   "metadata": {},
   "outputs": [],
   "source": [
    "def get_user_data(user, session):\n",
    "    \"\"\"Given a GitHub user, get its data\"\"\"\n",
    "    url = f'https://api.github.com/users/{user}'\n",
    "    response = session.get(url)\n",
    "    json_response = response.json()\n",
    "    return json_response['name']"
   ]
  },
  {
   "cell_type": "code",
   "execution_count": 9,
   "id": "96656878",
   "metadata": {},
   "outputs": [
    {
     "name": "stdout",
     "output_type": "stream",
     "text": [
      "Sanjeev Singh\n"
     ]
    }
   ],
   "source": [
    "from requests import Session\n",
    "session = Session()\n",
    "resp = get_user_data('sanjeevs', session)\n",
    "print(resp)"
   ]
  },
  {
   "cell_type": "code",
   "execution_count": 47,
   "id": "6fadb794",
   "metadata": {},
   "outputs": [],
   "source": [
    "from unittest.mock import Mock\n",
    "fake_session = Mock()\n",
    "fake_session.get.return_value.json.return_value = {'name' : 'sanjeev'}\n"
   ]
  },
  {
   "cell_type": "code",
   "execution_count": 48,
   "id": "0f32d305",
   "metadata": {},
   "outputs": [],
   "source": [
    "resp = get_user_data('sanjeevs', fake_session)"
   ]
  },
  {
   "cell_type": "code",
   "execution_count": 49,
   "id": "a8efa1ac",
   "metadata": {},
   "outputs": [
    {
     "name": "stdout",
     "output_type": "stream",
     "text": [
      "sanjeev\n"
     ]
    }
   ],
   "source": [
    "print(resp)"
   ]
  },
  {
   "cell_type": "code",
   "execution_count": null,
   "id": "1d9b329d",
   "metadata": {},
   "outputs": [],
   "source": []
  }
 ],
 "metadata": {
  "kernelspec": {
   "display_name": "env_test_tracker",
   "language": "python",
   "name": "env_test_tracker"
  },
  "language_info": {
   "codemirror_mode": {
    "name": "ipython",
    "version": 3
   },
   "file_extension": ".py",
   "mimetype": "text/x-python",
   "name": "python",
   "nbconvert_exporter": "python",
   "pygments_lexer": "ipython3",
   "version": "3.9.7"
  }
 },
 "nbformat": 4,
 "nbformat_minor": 5
}
