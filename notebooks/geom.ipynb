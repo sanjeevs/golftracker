{
 "cells": [
  {
   "cell_type": "code",
   "execution_count": 1,
   "id": "c0a51db0",
   "metadata": {},
   "outputs": [],
   "source": [
    "import os\n",
    "import cv2\n",
    "import numpy as np\n",
    "%matplotlib inline\n",
    "import matplotlib.pyplot as plt\n",
    "import matplotlib.image as mpimg\n",
    "plt.rcParams['figure.figsize'] = [16, 8]"
   ]
  },
  {
   "cell_type": "code",
   "execution_count": 2,
   "id": "705c68a9",
   "metadata": {},
   "outputs": [],
   "source": [
    "line1 = [20, 20, 100, 200]\n",
    "line2 = [30, 30, 300, 300]\n",
    "line3 = [250, 100, 300, 300]\n",
    "\n",
    "def pt0(line):\n",
    "    return (line[0], line[1])\n",
    "\n",
    "def pt1(line):\n",
    "    return (line[2], line[3])"
   ]
  },
  {
   "cell_type": "code",
   "execution_count": 3,
   "id": "571fbe67",
   "metadata": {},
   "outputs": [
    {
     "data": {
      "text/plain": [
       "<matplotlib.image.AxesImage at 0x1c50e88ad00>"
      ]
     },
     "execution_count": 3,
     "metadata": {},
     "output_type": "execute_result"
    },
    {
     "data": {
      "image/png": "[encoded data removed]",
      "text/plain": [
       "<Figure size 1152x576 with 1 Axes>"
      ]
     },
     "metadata": {
      "needs_background": "light"
     },
     "output_type": "display_data"
    }
   ],
   "source": [
    "img = np.zeros((350, 500, 3), dtype = np.uint8)\n",
    "\n",
    "cv2.line(img, pt0(line1), pt1(line1), color=(255, 0, 0))\n",
    "cv2.line(img, pt0(line2), pt1(line2), color=(0, 255, 0))\n",
    "cv2.line(img, pt0(line3), pt1(line3), color=(0, 0, 255))\n",
    "plt.imshow(img)"
   ]
  },
  {
   "cell_type": "code",
   "execution_count": 4,
   "id": "deb3b531",
   "metadata": {},
   "outputs": [],
   "source": [
    "from golftracker import geom"
   ]
  },
  {
   "cell_type": "code",
   "execution_count": 5,
   "id": "8ac401ff",
   "metadata": {},
   "outputs": [
    {
     "data": {
      "text/plain": [
       "10.15346165133619"
      ]
     },
     "execution_count": 5,
     "metadata": {},
     "output_type": "execute_result"
    }
   ],
   "source": [
    "dist = geom.shortest_dist_from_point_to_line((0,0), line1)\n",
    "dist"
   ]
  },
  {
   "cell_type": "code",
   "execution_count": 6,
   "id": "91b13bed",
   "metadata": {},
   "outputs": [],
   "source": [
    "lines= [line1, line2, line3]"
   ]
  },
  {
   "cell_type": "code",
   "execution_count": 7,
   "id": "9b238af1",
   "metadata": {},
   "outputs": [],
   "source": [
    "s1 = geom.sort_lines_closest_to_point(lines, (300, 10), 100)"
   ]
  },
  {
   "cell_type": "code",
   "execution_count": 8,
   "id": "90b8b58f",
   "metadata": {},
   "outputs": [
    {
     "data": {
      "text/plain": [
       "[[250, 100, 300, 300]]"
      ]
     },
     "execution_count": 8,
     "metadata": {},
     "output_type": "execute_result"
    }
   ],
   "source": [
    "s1"
   ]
  },
  {
   "cell_type": "code",
   "execution_count": null,
   "id": "1aebf683",
   "metadata": {},
   "outputs": [],
   "source": [
    "lines"
   ]
  },
  {
   "cell_type": "code",
   "execution_count": 9,
   "id": "bb4b4c9d",
   "metadata": {},
   "outputs": [],
   "source": [
    "s1 = geom.sort_lines_closest_to_point(lines, (300, 10), 100)"
   ]
  },
  {
   "cell_type": "code",
   "execution_count": null,
   "id": "2cf5d9e7",
   "metadata": {},
   "outputs": [],
   "source": []
  },
  {
   "cell_type": "code",
   "execution_count": 10,
   "id": "791e9fab",
   "metadata": {},
   "outputs": [
    {
     "data": {
      "text/plain": [
       "[[250, 100, 300, 300]]"
      ]
     },
     "execution_count": 10,
     "metadata": {},
     "output_type": "execute_result"
    }
   ],
   "source": [
    "s1"
   ]
  },
  {
   "cell_type": "code",
   "execution_count": null,
   "id": "bbc290f5",
   "metadata": {},
   "outputs": [],
   "source": []
  }
 ],
 "metadata": {
  "kernelspec": {
   "display_name": "env_test_tracker",
   "language": "python",
   "name": "env_test_tracker"
  },
  "language_info": {
   "codemirror_mode": {
    "name": "ipython",
    "version": 3
   },
   "file_extension": ".py",
   "mimetype": "text/x-python",
   "name": "python",
   "nbconvert_exporter": "python",
   "pygments_lexer": "ipython3",
   "version": "3.9.7"
  }
 },
 "nbformat": 4,
 "nbformat_minor": 5
}
